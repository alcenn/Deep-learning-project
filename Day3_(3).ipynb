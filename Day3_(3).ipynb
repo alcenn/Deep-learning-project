{
  "cells": [
    {
      "cell_type": "markdown",
      "metadata": {
        "id": "fPF4xYE3OIiA"
      },
      "source": [
        "Import numpy, matplotlib, and keras"
      ]
    },
    {
      "cell_type": "code",
      "execution_count": null,
      "metadata": {
        "id": "vlDGm5HHOLgG"
      },
      "outputs": [],
      "source": [
        "import numpy as np\n",
        "import matplotlib.pyplot as plt\n",
        "import keras\n",
        "import keras.layers as layers"
      ]
    },
    {
      "cell_type": "markdown",
      "metadata": {
        "id": "Iif6F4lwQP5a"
      },
      "source": [
        "# **DATA INSPECTION**"
      ]
    },
    {
      "cell_type": "markdown",
      "metadata": {
        "id": "HuK-Y79tONvE"
      },
      "source": [
        "Download the MNIST dataset with keras in the official documentation (https://keras.io/)\n",
        "\n",
        "x_train and x_test contain 28x28 INPUT FEATURES for all examples (60000 and 10000 respectively)\n",
        "\n",
        "y_train and y_test  contain 1 OUTPUT FEATURES for all examples"
      ]
    },
    {
      "cell_type": "code",
      "execution_count": null,
      "metadata": {
        "colab": {
          "base_uri": "https://localhost:8080/"
        },
        "id": "16PWq9ZXN2k_",
        "outputId": "4844e10f-a6ae-4d0f-9dc9-1eaef496f82f"
      },
      "outputs": [
        {
          "name": "stdout",
          "output_type": "stream",
          "text": [
            "Downloading data from https://storage.googleapis.com/tensorflow/tf-keras-datasets/mnist.npz\n",
            "11490434/11490434 [==============================] - 0s 0us/step\n"
          ]
        }
      ],
      "source": [
        "(x_train, y_train), (x_test, y_test) = keras.datasets.mnist.load_data()"
      ]
    },
    {
      "cell_type": "markdown",
      "metadata": {
        "id": "gA-TQF0BQbBQ"
      },
      "source": [
        "Check the shape of the training and test set."
      ]
    },
    {
      "cell_type": "code",
      "execution_count": null,
      "metadata": {
        "colab": {
          "base_uri": "https://localhost:8080/"
        },
        "id": "IdZ2ytK7OGZY",
        "outputId": "aabfb141-4609-4aa9-f961-02db526e34f7"
      },
      "outputs": [
        {
          "name": "stdout",
          "output_type": "stream",
          "text": [
            "(60000, 28, 28)\n",
            "(60000,)\n",
            "(10000, 28, 28)\n",
            "(10000,)\n"
          ]
        }
      ],
      "source": [
        "# shape\n",
        "print (x_train.shape)\n",
        "print (y_train.shape)\n",
        "\n",
        "print (x_test.shape)\n",
        "print (y_test.shape)"
      ]
    },
    {
      "cell_type": "markdown",
      "metadata": {
        "id": "FpsAWncnL6gZ"
      },
      "source": [
        "Get shape of the first example"
      ]
    },
    {
      "cell_type": "code",
      "execution_count": null,
      "metadata": {
        "colab": {
          "base_uri": "https://localhost:8080/"
        },
        "id": "75PXx2lPMtgP",
        "outputId": "9a695093-4db5-483d-ecb4-a097ca80d167"
      },
      "outputs": [
        {
          "data": {
            "text/plain": [
              "(28, 28)"
            ]
          },
          "execution_count": 5,
          "metadata": {},
          "output_type": "execute_result"
        }
      ],
      "source": [
        "x_train[0].shape"
      ]
    },
    {
      "cell_type": "markdown",
      "metadata": {
        "id": "87uWjDdbNIn2"
      },
      "source": [
        "Display 10 central rows and 10 central columns of the first example"
      ]
    },
    {
      "cell_type": "code",
      "execution_count": null,
      "metadata": {
        "colab": {
          "base_uri": "https://localhost:8080/",
          "height": 54
        },
        "id": "0S_y5-tWNHX_",
        "outputId": "eb39d60c-756b-48b4-9015-aaa1aee4f2db"
      },
      "outputs": [
        {
          "data": {
            "text/html": [
              "<style>\n",
              "      .ndarray_repr .ndarray_raw_data {\n",
              "        display: none;\n",
              "      }\n",
              "      .ndarray_repr.show_array .ndarray_raw_data {\n",
              "        display: block;\n",
              "      }\n",
              "      .ndarray_repr.show_array .ndarray_image_preview {\n",
              "        display: none;\n",
              "      }\n",
              "      </style>\n",
              "      <div id=\"id-35d612aa-9b55-4dfa-a524-4785c5629716\" class=\"ndarray_repr\"><pre>ndarray (10, 10) <button style=\"padding: 0 2px;\">show data</button></pre><img src=\"data:image/png;base64,iVBORw0KGgoAAAANSUhEUgAAAAoAAAAKCAAAAACoWZBhAAAAXElEQVR4nGOYk/3371luBu1ZDAx8jLP+RjEwMDAwMH36/5EhhYkBArj3/XWDMhmUPz5ckMMIYQd++Pu3XBLC1t319+80qBqB2D9/YeoZfv5lYWBgYGDQCzFlYQAAjzIbVGxOEbMAAAAASUVORK5CYII=\" class=\"ndarray_image_preview\" /><pre class=\"ndarray_raw_data\">array([[156, 107, 253, 253, 205,  11,   0,  43, 154,   0],\n",
              "       [ 14,   1, 154, 253,  90,   0,   0,   0,   0,   0],\n",
              "       [  0,   0, 139, 253, 190,   2,   0,   0,   0,   0],\n",
              "       [  0,   0,  11, 190, 253,  70,   0,   0,   0,   0],\n",
              "       [  0,   0,   0,  35, 241, 225, 160, 108,   1,   0],\n",
              "       [  0,   0,   0,   0,  81, 240, 253, 253, 119,  25],\n",
              "       [  0,   0,   0,   0,   0,  45, 186, 253, 253, 150],\n",
              "       [  0,   0,   0,   0,   0,   0,  16,  93, 252, 253],\n",
              "       [  0,   0,   0,   0,   0,   0,   0,   0, 249, 253],\n",
              "       [  0,   0,   0,   0,   0,  46, 130, 183, 253, 253]], dtype=uint8)</pre></div><script>\n",
              "      (() => {\n",
              "      const titles = ['show data', 'hide data'];\n",
              "      let index = 0\n",
              "      document.querySelector('#id-35d612aa-9b55-4dfa-a524-4785c5629716 button').onclick = (e) => {\n",
              "        document.querySelector('#id-35d612aa-9b55-4dfa-a524-4785c5629716').classList.toggle('show_array');\n",
              "        index = (++index) % 2;\n",
              "        document.querySelector('#id-35d612aa-9b55-4dfa-a524-4785c5629716 button').textContent = titles[index];\n",
              "        e.preventDefault();\n",
              "        e.stopPropagation();\n",
              "      }\n",
              "      })();\n",
              "    </script>"
            ],
            "text/plain": [
              "array([[156, 107, 253, 253, 205,  11,   0,  43, 154,   0],\n",
              "       [ 14,   1, 154, 253,  90,   0,   0,   0,   0,   0],\n",
              "       [  0,   0, 139, 253, 190,   2,   0,   0,   0,   0],\n",
              "       [  0,   0,  11, 190, 253,  70,   0,   0,   0,   0],\n",
              "       [  0,   0,   0,  35, 241, 225, 160, 108,   1,   0],\n",
              "       [  0,   0,   0,   0,  81, 240, 253, 253, 119,  25],\n",
              "       [  0,   0,   0,   0,   0,  45, 186, 253, 253, 150],\n",
              "       [  0,   0,   0,   0,   0,   0,  16,  93, 252, 253],\n",
              "       [  0,   0,   0,   0,   0,   0,   0,   0, 249, 253],\n",
              "       [  0,   0,   0,   0,   0,  46, 130, 183, 253, 253]], dtype=uint8)"
            ]
          },
          "execution_count": 6,
          "metadata": {},
          "output_type": "execute_result"
        }
      ],
      "source": [
        "x_train[0, 9:19, 9:19]"
      ]
    },
    {
      "cell_type": "markdown",
      "metadata": {
        "id": "ShXC-1FQNw3f"
      },
      "source": [
        "Print first example full array"
      ]
    },
    {
      "cell_type": "code",
      "execution_count": null,
      "metadata": {
        "colab": {
          "base_uri": "https://localhost:8080/"
        },
        "id": "417v2_YJOJzs",
        "outputId": "cea0db09-e89b-4e70-a938-cd6886b21c47"
      },
      "outputs": [
        {
          "name": "stdout",
          "output_type": "stream",
          "text": [
            "[0, 0, 0, 0, 0, 0, 0, 0, 0, 0, 0, 0, 0, 0, 0, 0, 0, 0, 0, 0, 0, 0, 0, 0, 0, 0, 0, 0]\n",
            "[0, 0, 0, 0, 0, 0, 0, 0, 0, 0, 0, 0, 0, 0, 0, 0, 0, 0, 0, 0, 0, 0, 0, 0, 0, 0, 0, 0]\n",
            "[0, 0, 0, 0, 0, 0, 0, 0, 0, 0, 0, 0, 0, 0, 0, 0, 0, 0, 0, 0, 0, 0, 0, 0, 0, 0, 0, 0]\n",
            "[0, 0, 0, 0, 0, 0, 0, 0, 0, 0, 0, 0, 0, 0, 0, 0, 0, 0, 0, 0, 0, 0, 0, 0, 0, 0, 0, 0]\n",
            "[0, 0, 0, 0, 0, 0, 0, 0, 0, 0, 0, 0, 0, 0, 0, 0, 0, 0, 0, 0, 0, 0, 0, 0, 0, 0, 0, 0]\n",
            "[0, 0, 0, 0, 0, 0, 0, 0, 0, 0, 0, 0, 3, 18, 18, 18, 126, 136, 175, 26, 166, 255, 247, 127, 0, 0, 0, 0]\n",
            "[0, 0, 0, 0, 0, 0, 0, 0, 30, 36, 94, 154, 170, 253, 253, 253, 253, 253, 225, 172, 253, 242, 195, 64, 0, 0, 0, 0]\n",
            "[0, 0, 0, 0, 0, 0, 0, 49, 238, 253, 253, 253, 253, 253, 253, 253, 253, 251, 93, 82, 82, 56, 39, 0, 0, 0, 0, 0]\n",
            "[0, 0, 0, 0, 0, 0, 0, 18, 219, 253, 253, 253, 253, 253, 198, 182, 247, 241, 0, 0, 0, 0, 0, 0, 0, 0, 0, 0]\n",
            "[0, 0, 0, 0, 0, 0, 0, 0, 80, 156, 107, 253, 253, 205, 11, 0, 43, 154, 0, 0, 0, 0, 0, 0, 0, 0, 0, 0]\n",
            "[0, 0, 0, 0, 0, 0, 0, 0, 0, 14, 1, 154, 253, 90, 0, 0, 0, 0, 0, 0, 0, 0, 0, 0, 0, 0, 0, 0]\n",
            "[0, 0, 0, 0, 0, 0, 0, 0, 0, 0, 0, 139, 253, 190, 2, 0, 0, 0, 0, 0, 0, 0, 0, 0, 0, 0, 0, 0]\n",
            "[0, 0, 0, 0, 0, 0, 0, 0, 0, 0, 0, 11, 190, 253, 70, 0, 0, 0, 0, 0, 0, 0, 0, 0, 0, 0, 0, 0]\n",
            "[0, 0, 0, 0, 0, 0, 0, 0, 0, 0, 0, 0, 35, 241, 225, 160, 108, 1, 0, 0, 0, 0, 0, 0, 0, 0, 0, 0]\n",
            "[0, 0, 0, 0, 0, 0, 0, 0, 0, 0, 0, 0, 0, 81, 240, 253, 253, 119, 25, 0, 0, 0, 0, 0, 0, 0, 0, 0]\n",
            "[0, 0, 0, 0, 0, 0, 0, 0, 0, 0, 0, 0, 0, 0, 45, 186, 253, 253, 150, 27, 0, 0, 0, 0, 0, 0, 0, 0]\n",
            "[0, 0, 0, 0, 0, 0, 0, 0, 0, 0, 0, 0, 0, 0, 0, 16, 93, 252, 253, 187, 0, 0, 0, 0, 0, 0, 0, 0]\n",
            "[0, 0, 0, 0, 0, 0, 0, 0, 0, 0, 0, 0, 0, 0, 0, 0, 0, 249, 253, 249, 64, 0, 0, 0, 0, 0, 0, 0]\n",
            "[0, 0, 0, 0, 0, 0, 0, 0, 0, 0, 0, 0, 0, 0, 46, 130, 183, 253, 253, 207, 2, 0, 0, 0, 0, 0, 0, 0]\n",
            "[0, 0, 0, 0, 0, 0, 0, 0, 0, 0, 0, 0, 39, 148, 229, 253, 253, 253, 250, 182, 0, 0, 0, 0, 0, 0, 0, 0]\n",
            "[0, 0, 0, 0, 0, 0, 0, 0, 0, 0, 24, 114, 221, 253, 253, 253, 253, 201, 78, 0, 0, 0, 0, 0, 0, 0, 0, 0]\n",
            "[0, 0, 0, 0, 0, 0, 0, 0, 23, 66, 213, 253, 253, 253, 253, 198, 81, 2, 0, 0, 0, 0, 0, 0, 0, 0, 0, 0]\n",
            "[0, 0, 0, 0, 0, 0, 18, 171, 219, 253, 253, 253, 253, 195, 80, 9, 0, 0, 0, 0, 0, 0, 0, 0, 0, 0, 0, 0]\n",
            "[0, 0, 0, 0, 55, 172, 226, 253, 253, 253, 253, 244, 133, 11, 0, 0, 0, 0, 0, 0, 0, 0, 0, 0, 0, 0, 0, 0]\n",
            "[0, 0, 0, 0, 136, 253, 253, 253, 212, 135, 132, 16, 0, 0, 0, 0, 0, 0, 0, 0, 0, 0, 0, 0, 0, 0, 0, 0]\n",
            "[0, 0, 0, 0, 0, 0, 0, 0, 0, 0, 0, 0, 0, 0, 0, 0, 0, 0, 0, 0, 0, 0, 0, 0, 0, 0, 0, 0]\n",
            "[0, 0, 0, 0, 0, 0, 0, 0, 0, 0, 0, 0, 0, 0, 0, 0, 0, 0, 0, 0, 0, 0, 0, 0, 0, 0, 0, 0]\n",
            "[0, 0, 0, 0, 0, 0, 0, 0, 0, 0, 0, 0, 0, 0, 0, 0, 0, 0, 0, 0, 0, 0, 0, 0, 0, 0, 0, 0]\n"
          ]
        }
      ],
      "source": [
        "for line in range(28):\n",
        "  print (list(x_train[0, line]))"
      ]
    },
    {
      "cell_type": "markdown",
      "metadata": {
        "id": "071JzNwwieyJ"
      },
      "source": [
        "Provide to the matplotlib imshow command below the first train input example to visualize nicely the input features."
      ]
    },
    {
      "cell_type": "code",
      "execution_count": null,
      "metadata": {
        "colab": {
          "base_uri": "https://localhost:8080/",
          "height": 447
        },
        "id": "TxXwQL5jkKLE",
        "outputId": "2f4f64e7-f03f-437c-b498-2bb815c2fe64"
      },
      "outputs": [
        {
          "data": {
            "text/plain": [
              "<matplotlib.image.AxesImage at 0x7c92dbde92d0>"
            ]
          },
          "execution_count": 128,
          "metadata": {},
          "output_type": "execute_result"
        },
        {
          "data": {
            "image/png": "[encoded data removed]",
            "text/plain": [
              "<Figure size 640x480 with 1 Axes>"
            ]
          },
          "metadata": {},
          "output_type": "display_data"
        }
      ],
      "source": [
        "plt.imshow(corr[0])"
      ]
    },
    {
      "cell_type": "markdown",
      "metadata": {
        "id": "Ye4hQk_VXs-U"
      },
      "source": [
        "The code displays how many examples are available for class 9 in the training set. Modify it to do the same for all classes."
      ]
    },
    {
      "cell_type": "code",
      "execution_count": null,
      "metadata": {
        "colab": {
          "base_uri": "https://localhost:8080/"
        },
        "id": "p1rmR4NdX0kD",
        "outputId": "e58993fa-0cf0-434a-d6cf-988b82529d2c"
      },
      "outputs": [
        {
          "name": "stdout",
          "output_type": "stream",
          "text": [
            "5923\n",
            "6742\n",
            "5958\n",
            "6131\n",
            "5842\n",
            "5421\n",
            "5918\n",
            "6265\n",
            "5851\n",
            "5949\n"
          ]
        }
      ],
      "source": [
        "for i in range(10):\n",
        "  acc = 0\n",
        "\n",
        "  for n in y_train:\n",
        "    if n == i: acc = acc +1\n",
        "\n",
        "  print (acc)\n",
        "\n",
        "\n"
      ]
    },
    {
      "cell_type": "markdown",
      "metadata": {
        "id": "vkvUOAz_kimp"
      },
      "source": [
        "The following code uses matplotlib to create a barplot showing how many examples are available for each class in training and test set.\n",
        "\n",
        "Group the class counts for train set obtained in the previous cell into a single array called"
      ]
    },
    {
      "cell_type": "code",
      "execution_count": null,
      "metadata": {
        "colab": {
          "base_uri": "https://localhost:8080/",
          "height": 435
        },
        "id": "tHbmeD9-lJ4b",
        "outputId": "c9ac0400-867b-43e0-9994-948ff0bdcacd"
      },
      "outputs": [
        {
          "data": {
            "image/png": "[encoded data removed]",
            "text/plain": [
              "<Figure size 640x480 with 2 Axes>"
            ]
          },
          "metadata": {},
          "output_type": "display_data"
        }
      ],
      "source": [
        "train_class_numbers = np.array([5923, 6742, 5958, 6131, 5842, 5421, 5918, 6265, 5851, 5949]) # substitute ... with a list of your train set class counts\n",
        "test_class_numbers = np.array([980, 1135, 1032, 1010, 982, 892, 958, 1028, 974, 1009]) # same as above, with test set class counts\n",
        "positions = np.arange(10)\n",
        "\n",
        "fig, (ax1, ax2) = plt.subplots(2, 1)\n",
        "\n",
        "ax1.bar(positions, train_class_numbers, color='orange')\n",
        "ax2.bar(positions, test_class_numbers, color='blue')\n",
        "\n",
        "ax1.set_ylim(5000,7000)\n",
        "ax2.set_ylim(800,1200)\n",
        "ax1.set_xticks(positions)\n",
        "ax2.set_xticks(positions)\n",
        "\n",
        "plt.show()"
      ]
    },
    {
      "cell_type": "markdown",
      "metadata": {
        "id": "n8UHYUfbU1_E"
      },
      "source": [
        "# **DATA PREPROCESSING**"
      ]
    },
    {
      "cell_type": "markdown",
      "metadata": {
        "id": "7Zt2haKhTRTb"
      },
      "source": [
        "This function normalizes input array values, scaling them between 0 and 1 (dividing every value in the array by the maximum value)\n",
        "\n",
        "Call it first, to normalize both input features arrays.\n",
        "\n",
        "\n",
        "Then compare line 10 columns 10 to 15 of the first example to the same fragment in the normalized array."
      ]
    },
    {
      "cell_type": "code",
      "execution_count": null,
      "metadata": {
        "colab": {
          "base_uri": "https://localhost:8080/"
        },
        "id": "umxTNSxIVX4f",
        "outputId": "d6146c46-8620-4ebc-c88e-305291273696"
      },
      "outputs": [
        {
          "name": "stdout",
          "output_type": "stream",
          "text": [
            "[  1 154 253  90   0   0]\n",
            "[0.00392157 0.60392157 0.99215686 0.35294118 0.         0.        ]\n"
          ]
        }
      ],
      "source": [
        "def normalize_input(arr):\n",
        "  return arr/np.max(arr)\n",
        "\n",
        "x_train_norm = normalize_input(x_train)\n",
        "x_test_norm = normalize_input(x_test)\n",
        "print (x_train[0,10,10:16])\n",
        "print (x_train_norm[0,10,10:16])\n",
        "\n"
      ]
    },
    {
      "cell_type": "markdown",
      "metadata": {
        "id": "FL-OWXYsVaa9"
      },
      "source": [
        "The to_categorical function transforms labels in one-hot encodings.\n",
        "\n",
        "Compare a short fragment of the original y_test array (the first ten labels) to the same positions of the newly generated one.\n",
        "\n",
        "Use this function on the test set as well."
      ]
    },
    {
      "cell_type": "code",
      "execution_count": null,
      "metadata": {
        "colab": {
          "base_uri": "https://localhost:8080/"
        },
        "id": "FEPliFpbVZ5a",
        "outputId": "28f4a006-6d6b-41c8-99b3-057adce25f62"
      },
      "outputs": [
        {
          "name": "stdout",
          "output_type": "stream",
          "text": [
            "[5 0 4 1 9 2 1 3 1 4]\n",
            "[[0. 0. 0. 0. 0. 1. 0. 0. 0. 0.]\n",
            " [1. 0. 0. 0. 0. 0. 0. 0. 0. 0.]\n",
            " [0. 0. 0. 0. 1. 0. 0. 0. 0. 0.]\n",
            " [0. 1. 0. 0. 0. 0. 0. 0. 0. 0.]\n",
            " [0. 0. 0. 0. 0. 0. 0. 0. 0. 1.]\n",
            " [0. 0. 1. 0. 0. 0. 0. 0. 0. 0.]\n",
            " [0. 1. 0. 0. 0. 0. 0. 0. 0. 0.]\n",
            " [0. 0. 0. 1. 0. 0. 0. 0. 0. 0.]\n",
            " [0. 1. 0. 0. 0. 0. 0. 0. 0. 0.]\n",
            " [0. 0. 0. 0. 1. 0. 0. 0. 0. 0.]]\n"
          ]
        }
      ],
      "source": [
        "y_train_cat = keras.utils.to_categorical(y_train, num_classes=10)\n",
        "y_test_cat = keras.utils.to_categorical(y_test, num_classes=10)\n",
        "print (y_train[:10])\n",
        "print (y_train_cat[:10])"
      ]
    },
    {
      "cell_type": "markdown",
      "metadata": {
        "id": "P82NKlRsp8Ib"
      },
      "source": [
        "# **NOISE INJECTION**"
      ]
    },
    {
      "cell_type": "markdown",
      "metadata": {
        "id": "6I_MUz7SRgiu"
      },
      "source": [
        "The function below moves empty rows/columns of pixels from random borders to the opposite ones, for a specified number of times, actually moving the handwritten digit in a random direction inside the picture.\n",
        "\n",
        "Use it on the train and test input features, and verify what happens visualizing few examples with the imshow matplotlib command.\n",
        "\n",
        "Create many different copies of the input features by allowing different numbers of moves (5, 10, 15), normalize them and try to use them to train a neural network."
      ]
    },
    {
      "cell_type": "code",
      "execution_count": null,
      "metadata": {
        "id": "M6VOcjcCUFrL"
      },
      "outputs": [],
      "source": [
        "def loc_noise(arr, moves):\n",
        "  new_arr = np.zeros(arr.shape)\n",
        "\n",
        "  for n in range(len(arr)):\n",
        "    shifted = np.array(arr[n])\n",
        "    left_moves = moves\n",
        "\n",
        "    directions = np.array((1,2,3,4))\n",
        "    np.random.shuffle(directions)\n",
        "    directions = directions[1:]\n",
        "\n",
        "    while left_moves!=0:\n",
        "      direction = np.random.choice(directions)\n",
        "      if direction == 1: shifted = np.roll(shifted, -1, axis=0)\n",
        "      if direction == 2: shifted = np.roll(shifted, 1, axis=0)\n",
        "      if direction == 3: shifted = np.roll(shifted, -1, axis=1)\n",
        "      if direction == 4: shifted = np.roll(shifted, 1, axis=1)\n",
        "\n",
        "      if np.any(shifted[0,:]!=0) or np.any(shifted[-1,:]!=0) \\\n",
        "      or np.any(shifted[:,0]!=0) or np.any(shifted[:,-1]!=0):\n",
        "        break\n",
        "\n",
        "      left_moves -= 1\n",
        "\n",
        "    new_arr[n] = shifted\n",
        "\n",
        "  return new_arr"
      ]
    },
    {
      "cell_type": "markdown",
      "metadata": {
        "id": "8A5x3_8kqcFk"
      },
      "source": [
        "The function below turns to 0 random pixels which are part of the digit depiction.\n",
        "\n",
        "Use it on the train and test input features, and verify what happens visualizing few examples with the imshow matplotlib command.\n",
        "\n",
        "Create many different copies of the input features by allowing different perc values (start with 1, 5, 10), normalize them and try to use them to train a neural network."
      ]
    },
    {
      "cell_type": "code",
      "execution_count": null,
      "metadata": {
        "colab": {
          "background_save": true
        },
        "id": "z_RNU3fbqcj5"
      },
      "outputs": [],
      "source": [
        "def scatter_noise_neg(arr, perc):\n",
        "  new_arr = np.zeros(arr.shape)\n",
        "\n",
        "  for n in range(len(arr)):\n",
        "    corrupted = np.array(arr[n])\n",
        "\n",
        "    tot = np.sum(np.where(corrupted!=0, 1, 0))\n",
        "    to_change = int((float(tot)/100)*perc)\n",
        "\n",
        "    while to_change > 0:\n",
        "      indexes = np.argwhere(corrupted!=0)\n",
        "      choice = np.random.choice(np.arange(len(indexes)))\n",
        "      pixel = indexes[choice]\n",
        "      corrupted[pixel[0],pixel[1]] = 0\n",
        "      to_change -= 1\n",
        "\n",
        "    new_arr[n] = corrupted\n",
        "\n",
        "  return new_arr\n",
        "\n",
        "corr = scatter_noise_neg(x_test, 100)"
      ]
    },
    {
      "cell_type": "markdown",
      "metadata": {
        "id": "z1pDSxc9Be6i"
      },
      "source": [
        "The function below turns to 255 random pixels which are not part of the digit depiction.\n",
        "\n",
        "Use it on the train and test input features, and verify what happens visualizing few examples with the imshow matplotlib command.\n",
        "\n",
        "Create many different copies of the input features by allowing different perc values (start with 1, 5, 10), normalize them and try to use them to train a neural network."
      ]
    },
    {
      "cell_type": "code",
      "execution_count": null,
      "metadata": {
        "id": "khxGzvEV06oH"
      },
      "outputs": [],
      "source": [
        "def scatter_noise_pos(arr, perc):\n",
        "  new_arr = np.zeros(arr.shape)\n",
        "\n",
        "  for n in range(len(arr)):\n",
        "    corrupted = np.array(arr[n])\n",
        "\n",
        "    tot = np.sum(np.where(corrupted==0, 1, 0))\n",
        "    to_change = int((float(tot)/100)*perc)\n",
        "\n",
        "    while to_change > 0:\n",
        "      indexes = np.argwhere(corrupted==0)\n",
        "      choice = np.random.choice(np.arange(len(indexes)))\n",
        "      pixel = indexes[choice]\n",
        "      corrupted[pixel[0],pixel[1]] = 255\n",
        "      to_change -= 1\n",
        "\n",
        "    new_arr[n] = corrupted\n",
        "\n",
        "  return new_arr"
      ]
    },
    {
      "cell_type": "markdown",
      "metadata": {
        "id": "7vBPgGOYBdia"
      },
      "source": [
        "The function below modifies random pixels by increasing them if they are equal to 0 or setting them low if they are different from 0.\n",
        "\n",
        "Use it on the train and test input features, and verify what happens visualizing few examples with the imshow matplotlib command.\n",
        "\n",
        "Create many different copies of the input features by allowing different perc values (start with 1, 5, 10), normalize them and try to use them to train a neural network."
      ]
    },
    {
      "cell_type": "code",
      "execution_count": null,
      "metadata": {
        "id": "fk9EZW8b1GqJ"
      },
      "outputs": [],
      "source": [
        "def scatter_noise_all(arr, perc):\n",
        "  new_arr = np.zeros(arr.shape)\n",
        "\n",
        "  for n in range(len(arr)):\n",
        "    corrupted = np.array(arr[n])\n",
        "\n",
        "    tot = 28*28\n",
        "    to_change = int((float(tot)/100)*perc)\n",
        "\n",
        "    while to_change > 0:\n",
        "      indexes = np.transpose(np.reshape(np.indices((28, 28)), (2, 28*28)))\n",
        "      choice = np.random.choice(np.arange(len(indexes)))\n",
        "      pixel = indexes[choice]\n",
        "      if corrupted[pixel[0],pixel[1]] != 0:\n",
        "        corrupted[pixel[0],pixel[1]] = np.random.choice(np.arange(0,55))\n",
        "      else:\n",
        "        corrupted[pixel[0],pixel[1]] = np.random.choice(np.arange(200,255))\n",
        "      to_change -= 1\n",
        "\n",
        "    new_arr[n] = corrupted\n",
        "\n",
        "  return new_arr\n",
        "\n",
        "corr = scatter_noise_all(x_train, 1)"
      ]
    },
    {
      "cell_type": "markdown",
      "metadata": {
        "id": "EQwM7RF9qdO_"
      },
      "source": [
        "The function below turns to 0 random stripes (horizontal or vertical) which are part of the digit depiction.\n",
        "\n",
        "Use it on the train and test input features, and verify what happens visualizing few examples with the imshow matplotlib command.\n",
        "\n",
        "Create many different copies of the input features by allowing different lines value (start with 1, 2 and 3), normalize them and try to use them to train a neural network."
      ]
    },
    {
      "cell_type": "code",
      "execution_count": null,
      "metadata": {
        "id": "K2M4bIF2qfC-"
      },
      "outputs": [],
      "source": [
        "def stripe_noise_neg(arr, lines):\n",
        "  new_arr = np.zeros(arr.shape)\n",
        "\n",
        "  for n in range(len(arr)):\n",
        "    corrupted = np.array(arr[n])\n",
        "    left_lines = lines\n",
        "\n",
        "    directions = np.array((0,1))\n",
        "    direction = np.random.choice(directions)\n",
        "\n",
        "    while left_lines!=0:\n",
        "      indexes = np.where(np.any(corrupted!=0, axis=direction))[0]\n",
        "      choice = np.random.choice(indexes)\n",
        "\n",
        "      if direction == 0:\n",
        "         corrupted[choice,:] = 0\n",
        "\n",
        "      if direction == 1:\n",
        "         corrupted[:,choice] = 0\n",
        "\n",
        "      left_lines -= 1\n",
        "\n",
        "    new_arr[n] = corrupted\n",
        "\n",
        "  return new_arr\n",
        "\n",
        "stripes = stripe_noise_neg(x_train, 3)"
      ]
    },
    {
      "cell_type": "markdown",
      "metadata": {
        "id": "gWZMiDshBbtw"
      },
      "source": [
        "The function below turns to 255 random stripes (horizontal or vertical).\n",
        "\n",
        "Use it on the train and test input features, and verify what happens visualizing few examples with the imshow matplotlib command.\n",
        "\n",
        "Create many different copies of the input features by allowing different lines value (start with 1, 2 and 3), normalize them and try to use them to train a neural network."
      ]
    },
    {
      "cell_type": "code",
      "execution_count": null,
      "metadata": {
        "id": "rXG-QeUgujsF"
      },
      "outputs": [],
      "source": [
        "def stripe_noise_pos(arr, lines):\n",
        "  new_arr = np.zeros(arr.shape)\n",
        "\n",
        "  for n in range(len(arr)):\n",
        "    corrupted = np.array(arr[n])\n",
        "    left_lines = lines\n",
        "\n",
        "    directions = np.array((0,1))\n",
        "    direction = np.random.choice(directions)\n",
        "\n",
        "    while left_lines!=0:\n",
        "      choice = np.random.choice(np.arange(28))\n",
        "\n",
        "      if direction == 0:\n",
        "         corrupted[choice,:] = 255\n",
        "\n",
        "      if direction == 1:\n",
        "         corrupted[:,choice] = 255\n",
        "\n",
        "      left_lines -= 1\n",
        "\n",
        "    new_arr[n] = corrupted\n",
        "\n",
        "  return new_arr\n",
        "\n",
        "stripes = stripe_noise_pos(x_train, 3)"
      ]
    },
    {
      "cell_type": "code",
      "execution_count": null,
      "metadata": {
        "id": "fn-lHmwVj2-g"
      },
      "outputs": [],
      "source": [
        "def scatter_noise_neg(arr, perc):\n",
        "  new_arr = np.zeros(arr.shape)\n",
        "\n",
        "  for n in range(len(arr)):\n",
        "    corrupted = np.array(arr[n])\n",
        "\n",
        "    tot = np.sum(np.where(corrupted!=0, 1, 0))\n",
        "    to_change = int((float(tot)/100)*perc)\n",
        "\n",
        "    while to_change > 0:\n",
        "      indexes = np.argwhere(corrupted!=0)\n",
        "      choice = np.random.choice(np.arange(len(indexes)))\n",
        "      pixel = indexes[choice]\n",
        "      corrupted[pixel[0],pixel[1]] = 0\n",
        "      to_change -= 1\n",
        "\n",
        "    new_arr[n] = corrupted\n",
        "\n",
        "  return new_arr\n",
        "\n",
        "x_train_c = scatter_noise_neg(x_train, 100)\n",
        "\n",
        "def normalize_input(arr):\n",
        "  return arr/np.max(arr)\n",
        "\n",
        "x_train_c = normalize_input(x_train_c)\n",
        "\n",
        "x_train_a=np.concatenate((x_train_norm, x_train_c), axis=0)\n",
        "y_train_a=np.concatenate((y_train_cat, y_train_cat), axis=0)\n",
        "\n"
      ]
    },
    {
      "cell_type": "markdown",
      "metadata": {
        "id": "rgl3AUnYQlky"
      },
      "source": [
        "# **MODEL FITTING**"
      ]
    },
    {
      "cell_type": "markdown",
      "metadata": {
        "id": "KPe0L6JMlVA8"
      },
      "source": [
        "Set up a simple neural network (up to 5 dense layers, each layer containing less than 100 units) using the keras Sequential module.\n",
        "\n",
        "Set your hidden layers activation functions as hyperbolic and your output layer activation function as softmax.\n",
        "\n",
        "Set the proper values for input shape and number of classes.\n",
        "\n",
        "Double check its structure by using the summary() method of the resulting model object."
      ]
    },
    {
      "cell_type": "code",
      "execution_count": null,
      "metadata": {
        "colab": {
          "base_uri": "https://localhost:8080/"
        },
        "id": "mVjZ_1xmlUj-",
        "outputId": "65cd6618-0089-4dc0-93b6-3f21459d9f78"
      },
      "outputs": [
        {
          "name": "stdout",
          "output_type": "stream",
          "text": [
            "Model: \"sequential_12\"\n",
            "_________________________________________________________________\n",
            " Layer (type)                Output Shape              Param #   \n",
            "=================================================================\n",
            " flatten_12 (Flatten)        (None, 784)               0         \n",
            "                                                                 \n",
            " dense_60 (Dense)            (None, 32)                25120     \n",
            "                                                                 \n",
            " dense_61 (Dense)            (None, 32)                1056      \n",
            "                                                                 \n",
            " dense_62 (Dense)            (None, 32)                1056      \n",
            "                                                                 \n",
            " dense_63 (Dense)            (None, 32)                1056      \n",
            "                                                                 \n",
            " dense_64 (Dense)            (None, 10)                330       \n",
            "                                                                 \n",
            "=================================================================\n",
            "Total params: 28618 (111.79 KB)\n",
            "Trainable params: 28618 (111.79 KB)\n",
            "Non-trainable params: 0 (0.00 Byte)\n",
            "_________________________________________________________________\n"
          ]
        }
      ],
      "source": [
        "model = keras.Sequential([\n",
        "          keras.Input(shape=(28, 28)),\n",
        "          layers.Flatten(),\n",
        "          layers.Dense(32, activation=\"tanh\"),\n",
        "          layers.Dense(32, activation=\"tanh\"),\n",
        "          layers.Dense(32, activation=\"tanh\"),\n",
        "          layers.Dense(32, activation=\"tanh\"),\n",
        "\n",
        "          layers.Dense(10, activation=\"softmax\")])\n",
        "\n",
        "model.summary()"
      ]
    },
    {
      "cell_type": "markdown",
      "metadata": {
        "id": "w3Yp50HCmYue"
      },
      "source": [
        "Compile the produced model to use:\n",
        "\n",
        "*   categorical crossentropy loss(error) function\n",
        "*   adam optimizer\n",
        "*   accuracy metric"
      ]
    },
    {
      "cell_type": "code",
      "execution_count": null,
      "metadata": {
        "id": "nKxtdF-PnFQ4"
      },
      "outputs": [],
      "source": [
        "model.compile(loss=\"categorical_crossentropy\", optimizer=\"adam\", metrics=\"accuracy\")"
      ]
    },
    {
      "cell_type": "code",
      "execution_count": null,
      "metadata": {
        "colab": {
          "base_uri": "https://localhost:8080/"
        },
        "id": "EWo3CeReMncE",
        "outputId": "ca9809d2-4edc-4066-97f8-aa1a0805906c"
      },
      "outputs": [
        {
          "name": "stdout",
          "output_type": "stream",
          "text": [
            "(120000, 10)\n"
          ]
        }
      ],
      "source": [
        "print(y_train_a.shape)"
      ]
    },
    {
      "cell_type": "markdown",
      "metadata": {
        "id": "KTihR17snq9x"
      },
      "source": [
        "Fit the model on the training data (specify the proper array name) for few tens of epochs and using a validation split of 0.1. Try to play with model parameters to raise accuracy as much as possible."
      ]
    },
    {
      "cell_type": "code",
      "execution_count": null,
      "metadata": {
        "colab": {
          "base_uri": "https://localhost:8080/"
        },
        "id": "PHWrEYgdoAN8",
        "outputId": "9972b235-ea75-4ac3-b4ca-dea77b857563"
      },
      "outputs": [
        {
          "name": "stdout",
          "output_type": "stream",
          "text": [
            "Epoch 1/10\n",
            "69/69 [==============================] - 1s 9ms/step - loss: 0.0684 - accuracy: 0.9805 - val_loss: 0.0973 - val_accuracy: 0.9697\n",
            "Epoch 2/10\n",
            "69/69 [==============================] - 1s 8ms/step - loss: 0.0640 - accuracy: 0.9816 - val_loss: 0.1013 - val_accuracy: 0.9677\n",
            "Epoch 3/10\n",
            "69/69 [==============================] - 1s 13ms/step - loss: 0.0616 - accuracy: 0.9821 - val_loss: 0.0985 - val_accuracy: 0.9695\n",
            "Epoch 4/10\n",
            "69/69 [==============================] - 1s 14ms/step - loss: 0.0572 - accuracy: 0.9837 - val_loss: 0.0983 - val_accuracy: 0.9698\n",
            "Epoch 5/10\n",
            "69/69 [==============================] - 1s 14ms/step - loss: 0.0528 - accuracy: 0.9849 - val_loss: 0.0950 - val_accuracy: 0.9703\n",
            "Epoch 6/10\n",
            "69/69 [==============================] - 1s 15ms/step - loss: 0.0518 - accuracy: 0.9850 - val_loss: 0.0972 - val_accuracy: 0.9703\n",
            "Epoch 7/10\n",
            "69/69 [==============================] - 1s 11ms/step - loss: 0.0487 - accuracy: 0.9858 - val_loss: 0.1040 - val_accuracy: 0.9672\n",
            "Epoch 8/10\n",
            "69/69 [==============================] - 1s 10ms/step - loss: 0.0464 - accuracy: 0.9867 - val_loss: 0.1016 - val_accuracy: 0.9698\n",
            "Epoch 9/10\n",
            "69/69 [==============================] - 1s 9ms/step - loss: 0.0431 - accuracy: 0.9881 - val_loss: 0.1016 - val_accuracy: 0.9702\n",
            "Epoch 10/10\n",
            "69/69 [==============================] - 1s 8ms/step - loss: 0.0410 - accuracy: 0.9887 - val_loss: 0.1012 - val_accuracy: 0.9683\n"
          ]
        }
      ],
      "source": [
        "h = model.fit(x_train_norm, y_train_cat, batch_size=784, epochs=10, validation_split=0.1)\n",
        "# h is an object containing data about the training procedure, like the behaviour of the loss in every epoch.\n",
        "# This data is stored in h.history which is a dictionary.\n",
        "# Take a look at it by printing h.history or list(h.history.keys()).\n",
        "# The first command will show the whole dictionary (lots of numbers), the second only all the dictionary keys"
      ]
    },
    {
      "cell_type": "markdown",
      "metadata": {
        "id": "dT6ECE_SrYfI"
      },
      "source": [
        "Use matplotlib to create a line plot, describing the behavior of the loss/error function during training for train and validation splits. Fill in the right keys from the h.history dictionary"
      ]
    },
    {
      "cell_type": "code",
      "execution_count": null,
      "metadata": {
        "colab": {
          "base_uri": "https://localhost:8080/",
          "height": 430
        },
        "id": "jvN7W0nXrf-i",
        "outputId": "9a580612-9375-4a2e-f79f-eaba99266680"
      },
      "outputs": [
        {
          "data": {
            "image/png": "[encoded data removed]",
            "text/plain": [
              "<Figure size 640x480 with 1 Axes>"
            ]
          },
          "metadata": {},
          "output_type": "display_data"
        }
      ],
      "source": [
        "\n",
        "plt.plot(h.history['loss'], label=\"Train set Loss\")\n",
        "plt.plot(h.history['val_loss'], label=\"Validation set Loss\")\n",
        "plt.legend()\n",
        "\n",
        "plt.show()"
      ]
    },
    {
      "cell_type": "markdown",
      "metadata": {
        "id": "JCGQZPLtWGVp"
      },
      "source": [
        "Same as before, but this time plot instead the behavior of accuracy during training for train and validation splits. Fill in the right keys from the h.history dictionary"
      ]
    },
    {
      "cell_type": "code",
      "execution_count": null,
      "metadata": {
        "colab": {
          "base_uri": "https://localhost:8080/",
          "height": 430
        },
        "id": "TNqti5BMWF5i",
        "outputId": "e94cefe3-3d7a-40c6-aed5-d1a8b8ac52b5"
      },
      "outputs": [
        {
          "data": {
            "image/png": "[encoded data removed]",
            "text/plain": [
              "<Figure size 640x480 with 1 Axes>"
            ]
          },
          "metadata": {},
          "output_type": "display_data"
        }
      ],
      "source": [
        "plt.plot(h.history['accuracy'], label=\"Train set Loss\")\n",
        "plt.plot(h.history['val_accuracy'], label=\"Validation set Loss\")\n",
        "plt.legend()\n",
        "\n",
        "plt.show()"
      ]
    },
    {
      "cell_type": "markdown",
      "metadata": {
        "id": "hUvyhyk2oEFj"
      },
      "source": [
        "Use the fitted model to get predictions for the appropriate test data"
      ]
    },
    {
      "cell_type": "code",
      "execution_count": null,
      "metadata": {
        "colab": {
          "base_uri": "https://localhost:8080/"
        },
        "id": "Re6AAd-doPdM",
        "outputId": "e11352a7-0359-49c7-9f90-4d9ae696e588"
      },
      "outputs": [
        {
          "name": "stdout",
          "output_type": "stream",
          "text": [
            "313/313 [==============================] - 1s 2ms/step\n"
          ]
        }
      ],
      "source": [
        "predictions = model.predict(corr)"
      ]
    },
    {
      "cell_type": "markdown",
      "metadata": {
        "id": "MUI7dCcdoQWC"
      },
      "source": [
        "Cell below compares test predictions to the correct test labels. Labels are categorical while predictions assign to each example a probability to belong to each class (according to the network). The class with the highest probability is considered the network choice. Compute accuracy for these predictions where accuracy is number of times the network got the right prediction over the total number of examples tested."
      ]
    },
    {
      "cell_type": "code",
      "execution_count": null,
      "metadata": {
        "colab": {
          "base_uri": "https://localhost:8080/"
        },
        "id": "-5BccyPYp_9U",
        "outputId": "32146a14-3b15-44ed-cc14-a7b7c165cf4f"
      },
      "outputs": [
        {
          "name": "stdout",
          "output_type": "stream",
          "text": [
            "0.6395\n"
          ]
        }
      ],
      "source": [
        "count = 0\n",
        "\n",
        "for p, l in zip(predictions, y_test_cat):\n",
        "  if np.argmax(p)==np.argmax(l): count += 1\n",
        "\n",
        "acc = count/predictions.shape[0]\n",
        "print (acc)"
      ]
    },
    {
      "cell_type": "markdown",
      "metadata": {
        "id": "7wgk_by-Sjy_"
      },
      "source": [
        "Adapt the code from the previous cell to work on individual classes?\n",
        "\n",
        "You have to limit the updates of the count variable to when np.argmax(l) is equal to the class you want to consider.\n",
        "\n",
        "Also consider that you have to divide count by the total number of occurrences of that class (not by predictions.shape[0])"
      ]
    },
    {
      "cell_type": "code",
      "execution_count": null,
      "metadata": {
        "colab": {
          "base_uri": "https://localhost:8080/"
        },
        "id": "RYLhEAvzU1ZU",
        "outputId": "c9a5529e-420e-46c6-e941-353bb66a9451"
      },
      "outputs": [
        {
          "name": "stdout",
          "output_type": "stream",
          "text": [
            "0.7512388503468781\n"
          ]
        }
      ],
      "source": [
        "class_id = 9\n",
        "count_match = 0\n",
        "count_tot = 0\n",
        "\n",
        "for p, l in zip(predictions, y_test_cat):\n",
        "  if np.argmax(l)==class_id and np.argmax(p)==np.argmax(l): count_match += 1\n",
        "  if np.argmax(l)==class_id: count_tot += 1\n",
        "\n",
        "acc = count_match/count_tot\n",
        "print (acc)"
      ]
    },
    {
      "cell_type": "markdown",
      "metadata": {
        "id": "1SogJwEnXcNg"
      },
      "source": [
        "# **EXPERIMENT**"
      ]
    },
    {
      "cell_type": "markdown",
      "metadata": {
        "id": "P3L5XKmXXgrK"
      },
      "source": [
        "\n",
        "\n",
        "*   First, train and test a model on the normal MNIST without including any noise.\n",
        "*   Try to increase your model accuracy as much as possible.\n",
        "*   Remember to evaluate accuracy on the test set, do not trust the training, nor the validation final accuracy\n",
        "*   Once you are satisfied(keep previous stages in the morning), pick one of the functions that inject noise and use that on your input features.\n",
        "*  Test your best model that you fitted on NORMAL data on a test set injected with different amounts of noise. Is there a level of noise that does not affect the prediction accuracy too much?"
      ]
    }
  ],
  "metadata": {
    "colab": {
      "provenance": []
    },
    "kernelspec": {
      "display_name": "Python 3",
      "name": "python3"
    },
    "language_info": {
      "name": "python"
    }
  },
  "nbformat": 4,
  "nbformat_minor": 0
}