{
  "nbformat": 4,
  "nbformat_minor": 0,
  "metadata": {
    "colab": {
      "provenance": []
    },
    "kernelspec": {
      "name": "python3",
      "display_name": "Python 3"
    },
    "language_info": {
      "name": "python"
    }
  },
  "cells": [
    {
      "cell_type": "markdown",
      "source": [
        "Import numpy, matplotlib, and keras"
      ],
      "metadata": {
        "id": "fPF4xYE3OIiA"
      }
    },
    {
      "cell_type": "code",
      "source": [],
      "metadata": {
        "id": "vlDGm5HHOLgG"
      },
      "execution_count": null,
      "outputs": []
    },
    {
      "cell_type": "markdown",
      "source": [
        "Find the proper way to download the MNIST dataset with keras in the official documentation (https://keras.io/)"
      ],
      "metadata": {
        "id": "HuK-Y79tONvE"
      }
    },
    {
      "cell_type": "code",
      "source": [],
      "metadata": {
        "id": "16PWq9ZXN2k_"
      },
      "execution_count": null,
      "outputs": []
    },
    {
      "cell_type": "markdown",
      "source": [
        "Look at the shape of the training set. How many examples are there in the training set? How many are in the test set? How many features compose a single example in the input arrays (x)? How many numbers describe a single example in the output labels (y)?"
      ],
      "metadata": {
        "id": "gA-TQF0BQbBQ"
      }
    },
    {
      "cell_type": "code",
      "source": [],
      "metadata": {
        "id": "IdZ2ytK7OGZY"
      },
      "execution_count": null,
      "outputs": []
    },
    {
      "cell_type": "markdown",
      "source": [
        "How many examples are available for each class in the training and test set?"
      ],
      "metadata": {
        "id": "Ye4hQk_VXs-U"
      }
    },
    {
      "cell_type": "code",
      "source": [],
      "metadata": {
        "id": "p1rmR4NdX0kD"
      },
      "execution_count": null,
      "outputs": []
    },
    {
      "cell_type": "markdown",
      "source": [
        "Write a function that normalizes input array values (divide every value in it by the maximum value in the array)"
      ],
      "metadata": {
        "id": "7Zt2haKhTRTb"
      }
    },
    {
      "cell_type": "code",
      "source": [],
      "metadata": {
        "id": "umxTNSxIVX4f"
      },
      "execution_count": null,
      "outputs": []
    },
    {
      "cell_type": "markdown",
      "source": [
        "Write a function that transforms output labels in one-hot encodings"
      ],
      "metadata": {
        "id": "FL-OWXYsVaa9"
      }
    },
    {
      "cell_type": "code",
      "source": [],
      "metadata": {
        "id": "FEPliFpbVZ5a"
      },
      "execution_count": null,
      "outputs": []
    },
    {
      "cell_type": "markdown",
      "source": [
        "Use matplotlib imshow command to visualize few single examples input features"
      ],
      "metadata": {
        "id": "071JzNwwieyJ"
      }
    },
    {
      "cell_type": "code",
      "source": [],
      "metadata": {
        "id": "TxXwQL5jkKLE"
      },
      "execution_count": null,
      "outputs": []
    },
    {
      "cell_type": "markdown",
      "source": [
        "Use matplotlib to create a barplot showing how many examples are available for each class in training and test set"
      ],
      "metadata": {
        "id": "vkvUOAz_kimp"
      }
    },
    {
      "cell_type": "code",
      "source": [],
      "metadata": {
        "id": "tHbmeD9-lJ4b"
      },
      "execution_count": null,
      "outputs": []
    },
    {
      "cell_type": "markdown",
      "source": [
        "Set up a simple neural network (up to 5 layers, each layer containing less than 100 units) using the keras Sequential module.\n",
        "\n",
        "Double check its structure by using the summary() method of the resulting model object."
      ],
      "metadata": {
        "id": "KPe0L6JMlVA8"
      }
    },
    {
      "cell_type": "code",
      "source": [],
      "metadata": {
        "id": "mVjZ_1xmlUj-"
      },
      "execution_count": null,
      "outputs": []
    },
    {
      "cell_type": "markdown",
      "source": [
        "Compile the produced model to use:\n",
        "\n",
        "*   categorical crossentropy loss(error) function\n",
        "*   adam optimizer\n",
        "*   accuracy metric"
      ],
      "metadata": {
        "id": "w3Yp50HCmYue"
      }
    },
    {
      "cell_type": "code",
      "source": [],
      "metadata": {
        "id": "nKxtdF-PnFQ4"
      },
      "execution_count": null,
      "outputs": []
    },
    {
      "cell_type": "markdown",
      "source": [
        "Fit the model on the training data for few tens of epochs and using a validation split of 0.1.\n",
        "\n",
        "Save the return of this method into a variable, so that it will allow you to recover the behaviour of loss/error function during training."
      ],
      "metadata": {
        "id": "KTihR17snq9x"
      }
    },
    {
      "cell_type": "code",
      "source": [],
      "metadata": {
        "id": "PHWrEYgdoAN8"
      },
      "execution_count": null,
      "outputs": []
    },
    {
      "cell_type": "markdown",
      "source": [
        "Use matplotlib to create a line plot, describing the behavior of the loss/error function during training"
      ],
      "metadata": {
        "id": "dT6ECE_SrYfI"
      }
    },
    {
      "cell_type": "code",
      "source": [],
      "metadata": {
        "id": "jvN7W0nXrf-i"
      },
      "execution_count": null,
      "outputs": []
    },
    {
      "cell_type": "markdown",
      "source": [
        "Use the fitted model to get predictions for the test data"
      ],
      "metadata": {
        "id": "hUvyhyk2oEFj"
      }
    },
    {
      "cell_type": "code",
      "source": [],
      "metadata": {
        "id": "Re6AAd-doPdM"
      },
      "execution_count": null,
      "outputs": []
    },
    {
      "cell_type": "markdown",
      "source": [
        "Compare test predictions to real test labels. Labels are categorical while predictions assign to each example a probability to belong to each class (according to the network). The class with the highest probability is considered the network choice and set to 1. Compute accuracy for these predictions where accuracy is number of times the network got the right prediction over the total number of examples tested."
      ],
      "metadata": {
        "id": "MUI7dCcdoQWC"
      }
    },
    {
      "cell_type": "code",
      "source": [],
      "metadata": {
        "id": "-5BccyPYp_9U"
      },
      "execution_count": null,
      "outputs": []
    }
  ]
}