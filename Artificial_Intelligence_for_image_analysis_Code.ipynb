{
  "nbformat": 4,
  "nbformat_minor": 0,
  "metadata": {
    "colab": {
      "provenance": []
    },
    "kernelspec": {
      "name": "python3",
      "display_name": "Python 3"
    },
    "language_info": {
      "name": "python"
    }
  },
  "cells": [
    {
      "cell_type": "markdown",
      "source": [
        "Imports needed librarys"
      ],
      "metadata": {
        "id": "aeOwCkDBTlM9"
      }
    },
    {
      "cell_type": "code",
      "execution_count": null,
      "metadata": {
        "id": "THKQXx27d7A_"
      },
      "outputs": [],
      "source": [
        "import keras\n",
        "import keras.layers as layers\n",
        "import matplotlib.pyplot as plt\n",
        "import numpy as np"
      ]
    },
    {
      "cell_type": "markdown",
      "source": [
        "Imports dataset of 28x28 pixel images of pixels from MNIST, x values are input and y values are output"
      ],
      "metadata": {
        "id": "9I0LWMiITokU"
      }
    },
    {
      "cell_type": "code",
      "source": [
        "(x_train, y_train), (x_test, y_test) = keras.datasets.mnist.load_data()"
      ],
      "metadata": {
        "id": "vMRyjrzVeBxU",
        "colab": {
          "base_uri": "https://localhost:8080/"
        },
        "outputId": "9ee3c3b6-a48b-4001-c6ea-484b96805a49"
      },
      "execution_count": null,
      "outputs": [
        {
          "output_type": "stream",
          "name": "stdout",
          "text": [
            "Downloading data from https://storage.googleapis.com/tensorflow/tf-keras-datasets/mnist.npz\n",
            "11490434/11490434 [==============================] - 0s 0us/step\n"
          ]
        }
      ]
    },
    {
      "cell_type": "markdown",
      "source": [
        "Determines number of examples for each class for training- and test data and puts this into two lists."
      ],
      "metadata": {
        "id": "qNkMTA4iT34r"
      }
    },
    {
      "cell_type": "code",
      "source": [
        "print(\"Train:\")\n",
        "train_class_count = []\n",
        "for digit in range(10):\n",
        "  counter = 0\n",
        "  for label in y_train:\n",
        "    if label == digit:\n",
        "      counter = counter + 1\n",
        "  train_class_count.append(counter)\n",
        "  print(\"Class: \" + str(digit) + \" Count: \" + str(counter))\n",
        "\n",
        "print(train_class_count)\n",
        "\n",
        "print(\"Test:\")\n",
        "test_class_count = []\n",
        "for digit in range(10):\n",
        "  counter = 0\n",
        "  for label in y_test:\n",
        "    if label == digit:\n",
        "      counter = counter + 1\n",
        "  test_class_count.append(counter)\n",
        "  print(\"Class: \" + str(digit) + \" Count: \" + str(counter))\n",
        "\n",
        "print(test_class_count)"
      ],
      "metadata": {
        "id": "3plydzGNer99",
        "colab": {
          "base_uri": "https://localhost:8080/"
        },
        "collapsed": true,
        "outputId": "2f57baae-f8ea-4c75-9d2d-9e60fe3aedb4"
      },
      "execution_count": null,
      "outputs": [
        {
          "output_type": "stream",
          "name": "stdout",
          "text": [
            "Train:\n",
            "Class: 0 Count: 5923\n",
            "Class: 1 Count: 6742\n",
            "Class: 2 Count: 5958\n",
            "Class: 3 Count: 6131\n",
            "Class: 4 Count: 5842\n",
            "Class: 5 Count: 5421\n",
            "Class: 6 Count: 5918\n",
            "Class: 7 Count: 6265\n",
            "Class: 8 Count: 5851\n",
            "Class: 9 Count: 5949\n",
            "[5923, 6742, 5958, 6131, 5842, 5421, 5918, 6265, 5851, 5949]\n",
            "Test:\n",
            "Class: 0 Count: 980\n",
            "Class: 1 Count: 1135\n",
            "Class: 2 Count: 1032\n",
            "Class: 3 Count: 1010\n",
            "Class: 4 Count: 982\n",
            "Class: 5 Count: 892\n",
            "Class: 6 Count: 958\n",
            "Class: 7 Count: 1028\n",
            "Class: 8 Count: 974\n",
            "Class: 9 Count: 1009\n",
            "[980, 1135, 1032, 1010, 982, 892, 958, 1028, 974, 1009]\n"
          ]
        }
      ]
    },
    {
      "cell_type": "markdown",
      "source": [
        "Plots the data in the lists in two barplots"
      ],
      "metadata": {
        "id": "ynC0tccwUJ0r"
      }
    },
    {
      "cell_type": "code",
      "source": [
        "train_class_numbers = np.array(train_class_count)\n",
        "test_class_numbers = np.array(test_class_count)\n",
        "positions = np.arange(10)\n",
        "\n",
        "fig, (ax1, ax2) = plt.subplots(2, 1)\n",
        "\n",
        "ax1.bar(positions, train_class_numbers, color='orange')\n",
        "ax2.bar(positions, test_class_numbers, color='blue')\n",
        "\n",
        "ax1.set_ylim(5000,7000)\n",
        "ax2.set_ylim(800,1200)\n",
        "ax1.set_xticks(positions)\n",
        "ax2.set_xticks(positions)\n",
        "\n",
        "plt.show()"
      ],
      "metadata": {
        "id": "lCZR2uCvv2D-",
        "colab": {
          "base_uri": "https://localhost:8080/",
          "height": 435
        },
        "collapsed": true,
        "outputId": "a410e38a-a8f0-4ad7-d644-94fbc028a7ef"
      },
      "execution_count": null,
      "outputs": [
        {
          "output_type": "display_data",
          "data": {
            "text/plain": [
              "<Figure size 640x480 with 2 Axes>"
            ],
            "image/png": "[encoded data removed]"
          },
          "metadata": {}
        }
      ]
    },
    {
      "cell_type": "markdown",
      "source": [
        "1. Defines a function to normalize an array.\n",
        "\n",
        "2. Normalizes training- and test input values.\n",
        "\n",
        "3. Converts the training- and test output values into the form of onehot numbers.\n",
        "\n"
      ],
      "metadata": {
        "id": "a_abpYqdUW7Q"
      }
    },
    {
      "cell_type": "code",
      "source": [
        "#1\n",
        "def normalize_input(arr):\n",
        "  return arr/np.max(arr)\n",
        "\n",
        "#2\n",
        "x_train_norm = normalize_input(x_train)\n",
        "\n",
        "x_test_norm = normalize_input(x_test)\n",
        "\n",
        "#3\n",
        "y_train_cat = keras.utils.to_categorical(y_train, num_classes=10)\n",
        "\n",
        "y_test_cat = keras.utils.to_categorical(y_test, num_classes=10)"
      ],
      "metadata": {
        "id": "mAF9H3Y-wsQy"
      },
      "execution_count": null,
      "outputs": []
    },
    {
      "cell_type": "markdown",
      "source": [
        "Creates, defines and compiles the deep learning model and prints a summary of the model."
      ],
      "metadata": {
        "id": "lLvpSCNBVY2k"
      }
    },
    {
      "cell_type": "code",
      "source": [
        "#1\n",
        "model = keras.Sequential([\n",
        "          keras.Input(shape = (28, 28)),\n",
        "          layers.Flatten(),\n",
        "          layers.Dense(32, activation=\"tanh\"),\n",
        "          layers.Dense(32, activation=\"tanh\"),\n",
        "          layers.Dense(32, activation=\"tanh\"),\n",
        "          layers.Dense(32, activation=\"tanh\"),\n",
        "\n",
        "          layers.Dense(10, activation=\"softmax\")])\n",
        "\n",
        "#2\n",
        "model.compile(loss=\"categorical_crossentropy\", optimizer=\"adam\", metrics=\"accuracy\")\n",
        "\n",
        "#3\n",
        "model.summary()"
      ],
      "metadata": {
        "colab": {
          "base_uri": "https://localhost:8080/"
        },
        "collapsed": true,
        "id": "dp_hW1UzqoQA",
        "outputId": "557a1894-55c7-4124-994b-2d506ddf95ef"
      },
      "execution_count": null,
      "outputs": [
        {
          "output_type": "stream",
          "name": "stdout",
          "text": [
            "Model: \"sequential\"\n",
            "_________________________________________________________________\n",
            " Layer (type)                Output Shape              Param #   \n",
            "=================================================================\n",
            " flatten (Flatten)           (None, 784)               0         \n",
            "                                                                 \n",
            " dense (Dense)               (None, 32)                25120     \n",
            "                                                                 \n",
            " dense_1 (Dense)             (None, 32)                1056      \n",
            "                                                                 \n",
            " dense_2 (Dense)             (None, 32)                1056      \n",
            "                                                                 \n",
            " dense_3 (Dense)             (None, 32)                1056      \n",
            "                                                                 \n",
            " dense_4 (Dense)             (None, 10)                330       \n",
            "                                                                 \n",
            "=================================================================\n",
            "Total params: 28618 (111.79 KB)\n",
            "Trainable params: 28618 (111.79 KB)\n",
            "Non-trainable params: 0 (0.00 Byte)\n",
            "_________________________________________________________________\n"
          ]
        }
      ]
    },
    {
      "cell_type": "markdown",
      "source": [
        "Trains the model for the desired amount of epochs (10 in our case)."
      ],
      "metadata": {
        "id": "rYCEudl8Vy3u"
      }
    },
    {
      "cell_type": "code",
      "source": [
        "h = model.fit(x_train_norm, y_train_cat, batch_size=784, epochs=10, validation_split=0.1)"
      ],
      "metadata": {
        "id": "khxosDx_rERB",
        "colab": {
          "base_uri": "https://localhost:8080/"
        },
        "collapsed": true,
        "outputId": "9f1ac12a-0219-4769-c6a7-67f83d4a7291"
      },
      "execution_count": null,
      "outputs": [
        {
          "output_type": "stream",
          "name": "stdout",
          "text": [
            "Epoch 1/10\n",
            "69/69 [==============================] - 3s 23ms/step - loss: 1.1821 - accuracy: 0.6994 - val_loss: 0.5554 - val_accuracy: 0.8840\n",
            "Epoch 2/10\n",
            "69/69 [==============================] - 1s 19ms/step - loss: 0.4637 - accuracy: 0.8886 - val_loss: 0.3034 - val_accuracy: 0.9290\n",
            "Epoch 3/10\n",
            "69/69 [==============================] - 1s 17ms/step - loss: 0.3106 - accuracy: 0.9179 - val_loss: 0.2289 - val_accuracy: 0.9402\n",
            "Epoch 4/10\n",
            "69/69 [==============================] - 1s 12ms/step - loss: 0.2493 - accuracy: 0.9317 - val_loss: 0.1945 - val_accuracy: 0.9465\n",
            "Epoch 5/10\n",
            "69/69 [==============================] - 1s 10ms/step - loss: 0.2132 - accuracy: 0.9402 - val_loss: 0.1691 - val_accuracy: 0.9538\n",
            "Epoch 6/10\n",
            "69/69 [==============================] - 1s 10ms/step - loss: 0.1849 - accuracy: 0.9476 - val_loss: 0.1530 - val_accuracy: 0.9588\n",
            "Epoch 7/10\n",
            "69/69 [==============================] - 1s 13ms/step - loss: 0.1644 - accuracy: 0.9533 - val_loss: 0.1421 - val_accuracy: 0.9625\n",
            "Epoch 8/10\n",
            "69/69 [==============================] - 1s 14ms/step - loss: 0.1470 - accuracy: 0.9590 - val_loss: 0.1339 - val_accuracy: 0.9647\n",
            "Epoch 9/10\n",
            "69/69 [==============================] - 1s 14ms/step - loss: 0.1351 - accuracy: 0.9610 - val_loss: 0.1279 - val_accuracy: 0.9640\n",
            "Epoch 10/10\n",
            "69/69 [==============================] - 1s 10ms/step - loss: 0.1227 - accuracy: 0.9649 - val_loss: 0.1222 - val_accuracy: 0.9662\n"
          ]
        }
      ]
    },
    {
      "cell_type": "markdown",
      "source": [
        "Plots the training set loss and the validation set loss to compare them over the amount of epochs."
      ],
      "metadata": {
        "id": "xs6WvpG6V5TU"
      }
    },
    {
      "cell_type": "code",
      "source": [
        "plt.plot(h.history['loss'], label=\"Train set Loss\")\n",
        "plt.plot(h.history['val_loss'], label=\"Validation set Loss\")\n",
        "plt.legend()\n",
        "\n",
        "plt.show()"
      ],
      "metadata": {
        "id": "FADS1Aizr79I",
        "colab": {
          "base_uri": "https://localhost:8080/",
          "height": 430
        },
        "collapsed": true,
        "outputId": "c1bb992f-ddb7-433e-8906-bdeeb5648ef1"
      },
      "execution_count": null,
      "outputs": [
        {
          "output_type": "display_data",
          "data": {
            "text/plain": [
              "<Figure size 640x480 with 1 Axes>"
            ],
            "image/png": "[encoded data removed]"
          },
          "metadata": {}
        }
      ]
    },
    {
      "cell_type": "markdown",
      "source": [
        "Plots the training set accuracy and the validation set accuracy to compare them over the amount of epochs."
      ],
      "metadata": {
        "id": "-CDk2H1KWJFr"
      }
    },
    {
      "cell_type": "code",
      "source": [
        "plt.plot(h.history['accuracy'], label=\"Train set Accuracy\")\n",
        "plt.plot(h.history['val_accuracy'], label=\"Validation set Accuracy\")\n",
        "plt.legend()\n",
        "\n",
        "plt.show()"
      ],
      "metadata": {
        "id": "Jd9O4PLwr_1G",
        "colab": {
          "base_uri": "https://localhost:8080/",
          "height": 430
        },
        "collapsed": true,
        "outputId": "f51eb05e-3c25-43ab-ff13-fabd0c0cce3c"
      },
      "execution_count": null,
      "outputs": [
        {
          "output_type": "display_data",
          "data": {
            "text/plain": [
              "<Figure size 640x480 with 1 Axes>"
            ],
            "image/png": "[encoded data removed]"
          },
          "metadata": {}
        }
      ]
    },
    {
      "cell_type": "markdown",
      "source": [
        "1. Tests the model on the test data and prints its accuracy when tested on this data.\n",
        "\n",
        "2. Prints the accuracy of the model for each class."
      ],
      "metadata": {
        "id": "HFk2IXBQWRPR"
      }
    },
    {
      "cell_type": "code",
      "source": [
        "#1\n",
        "predictions = model.predict(x_test_norm)\n",
        "\n",
        "count = 0\n",
        "\n",
        "for p, l in zip(predictions, y_test_cat):\n",
        "  if np.argmax(p)==np.argmax(l): count += 1\n",
        "\n",
        "acc = count/predictions.shape[0]\n",
        "print (acc)\n",
        "\n",
        "#2\n",
        "for n in range(10):\n",
        "  count = 0\n",
        "  for p, l in zip(predictions, y_test_cat):\n",
        "    if np.argmax(p)==np.argmax(l)==n:\n",
        "      count += 1\n",
        "  print(str(n) + \": \" + str(count/test_class_count[n]))"
      ],
      "metadata": {
        "id": "yhldQsgpsMtN",
        "colab": {
          "base_uri": "https://localhost:8080/"
        },
        "collapsed": true,
        "outputId": "d52ced10-3502-4789-ddaf-e68da9340a4c"
      },
      "execution_count": null,
      "outputs": [
        {
          "output_type": "stream",
          "name": "stdout",
          "text": [
            "313/313 [==============================] - 1s 2ms/step\n",
            "0.9574\n",
            "0: 0.9877551020408163\n",
            "1: 0.9876651982378855\n",
            "2: 0.9583333333333334\n",
            "3: 0.9485148514851485\n",
            "4: 0.9541751527494908\n",
            "5: 0.9461883408071748\n",
            "6: 0.9551148225469729\n",
            "7: 0.9494163424124513\n",
            "8: 0.9332648870636551\n",
            "9: 0.9484638255698712\n"
          ]
        }
      ]
    },
    {
      "cell_type": "markdown",
      "source": [
        "Below are the definitions of the different functions which add corruption to the data"
      ],
      "metadata": {
        "id": "tTxNUHuaXV7H"
      }
    },
    {
      "cell_type": "markdown",
      "metadata": {
        "id": "6I_MUz7SRgiu"
      },
      "source": [
        "The function below moves empty rows/columns of pixels from random borders to the opposite ones, for a specified number of times, actually moving the handwritten digit in a random direction inside the picture. Shift.\n",
        "\n"
      ]
    },
    {
      "cell_type": "code",
      "execution_count": null,
      "metadata": {
        "id": "M6VOcjcCUFrL"
      },
      "outputs": [],
      "source": [
        "def loc_noise(arr, moves):\n",
        "  new_arr = np.zeros(arr.shape)\n",
        "\n",
        "  for n in range(len(arr)):\n",
        "    shifted = np.array(arr[n])\n",
        "    left_moves = moves\n",
        "\n",
        "    directions = np.array((1,2,3,4))\n",
        "    np.random.shuffle(directions)\n",
        "    directions = directions[1:]\n",
        "\n",
        "    while left_moves!=0:\n",
        "      direction = np.random.choice(directions)\n",
        "      if direction == 1: shifted = np.roll(shifted, -1, axis=0)\n",
        "      if direction == 2: shifted = np.roll(shifted, 1, axis=0)\n",
        "      if direction == 3: shifted = np.roll(shifted, -1, axis=1)\n",
        "      if direction == 4: shifted = np.roll(shifted, 1, axis=1)\n",
        "\n",
        "      if np.any(shifted[0,:]!=0) or np.any(shifted[-1,:]!=0) \\\n",
        "      or np.any(shifted[:,0]!=0) or np.any(shifted[:,-1]!=0):\n",
        "        break\n",
        "\n",
        "      left_moves -= 1\n",
        "\n",
        "    new_arr[n] = shifted\n",
        "\n",
        "  return new_arr"
      ]
    },
    {
      "cell_type": "markdown",
      "metadata": {
        "id": "8A5x3_8kqcFk"
      },
      "source": [
        "The function below turns to 0 random pixels which are part of the digit depiction. Digit noise.\n",
        "\n"
      ]
    },
    {
      "cell_type": "code",
      "execution_count": null,
      "metadata": {
        "id": "z_RNU3fbqcj5"
      },
      "outputs": [],
      "source": [
        "def scatter_noise_neg(arr, perc):\n",
        "  new_arr = np.zeros(arr.shape)\n",
        "\n",
        "  for n in range(len(arr)):\n",
        "    corrupted = np.array(arr[n])\n",
        "\n",
        "    tot = np.sum(np.where(corrupted!=0, 1, 0))\n",
        "    to_change = int((float(tot)/100)*perc)\n",
        "\n",
        "    while to_change > 0:\n",
        "      indexes = np.argwhere(corrupted!=0)\n",
        "      choice = np.random.choice(np.arange(len(indexes)))\n",
        "      pixel = indexes[choice]\n",
        "      corrupted[pixel[0],pixel[1]] = 0\n",
        "      to_change -= 1\n",
        "\n",
        "    new_arr[n] = corrupted\n",
        "\n",
        "  return new_arr"
      ]
    },
    {
      "cell_type": "markdown",
      "metadata": {
        "id": "z1pDSxc9Be6i"
      },
      "source": [
        "The function below turns to 255 random pixels which are not part of the digit depiction. Background noise.\n"
      ]
    },
    {
      "cell_type": "code",
      "execution_count": null,
      "metadata": {
        "id": "khxGzvEV06oH"
      },
      "outputs": [],
      "source": [
        "def scatter_noise_pos(arr, perc):\n",
        "  new_arr = np.zeros(arr.shape)\n",
        "\n",
        "  for n in range(len(arr)):\n",
        "    corrupted = np.array(arr[n])\n",
        "\n",
        "    tot = np.sum(np.where(corrupted==0, 1, 0))\n",
        "    to_change = int((float(tot)/100)*perc)\n",
        "\n",
        "    while to_change > 0:\n",
        "      indexes = np.argwhere(corrupted==0)\n",
        "      choice = np.random.choice(np.arange(len(indexes)))\n",
        "      pixel = indexes[choice]\n",
        "      corrupted[pixel[0],pixel[1]] = 255\n",
        "      to_change -= 1\n",
        "\n",
        "    new_arr[n] = corrupted\n",
        "\n",
        "  return new_arr"
      ]
    },
    {
      "cell_type": "markdown",
      "metadata": {
        "id": "7vBPgGOYBdia"
      },
      "source": [
        "The function below modifies random pixels by increasing them if they are equal to 0 or setting them low if they are different from 0. Mixed noise.\n"
      ]
    },
    {
      "cell_type": "code",
      "execution_count": null,
      "metadata": {
        "id": "fk9EZW8b1GqJ"
      },
      "outputs": [],
      "source": [
        "def scatter_noise_all(arr, perc):\n",
        "  new_arr = np.zeros(arr.shape)\n",
        "\n",
        "  for n in range(len(arr)):\n",
        "    corrupted = np.array(arr[n])\n",
        "\n",
        "    tot = 28*28\n",
        "    to_change = int((float(tot)/100)*perc)\n",
        "\n",
        "    while to_change > 0:\n",
        "      indexes = np.transpose(np.reshape(np.indices((28, 28)), (2, 28*28)))\n",
        "      choice = np.random.choice(np.arange(len(indexes)))\n",
        "      pixel = indexes[choice]\n",
        "      if corrupted[pixel[0],pixel[1]] != 0:\n",
        "        corrupted[pixel[0],pixel[1]] = np.random.choice(np.arange(0,55))\n",
        "      else:\n",
        "        corrupted[pixel[0],pixel[1]] = np.random.choice(np.arange(200,255))\n",
        "      to_change -= 1\n",
        "\n",
        "    new_arr[n] = corrupted\n",
        "\n",
        "  return new_arr\n",
        "\n",
        "corr = scatter_noise_all(x_train, 1)"
      ]
    },
    {
      "cell_type": "markdown",
      "metadata": {
        "id": "EQwM7RF9qdO_"
      },
      "source": [
        "The function below turns to 0 random stripes (horizontal or vertical) which are part of the digit depiction. Digit stripes.\n",
        "\n"
      ]
    },
    {
      "cell_type": "code",
      "source": [
        "def stripe_noise_neg(arr, lines):\n",
        "  new_arr = np.zeros(arr.shape)\n",
        "\n",
        "  for n in range(len(arr)):\n",
        "    corrupted = np.array(arr[n])\n",
        "    left_lines = lines\n",
        "    h_indexes = np.where(np.any(corrupted!=0, axis=0))[0]\n",
        "    v_indexes = np.where(np.any(corrupted!=0, axis=1))[0]\n",
        "    indexes = [(0,idx) for idx in h_indexes]+[(1,idx) for idx in v_indexes]\n",
        "\n",
        "    while left_lines!=0:\n",
        "      if len(indexes)==0:\n",
        "        print (\"Exhausted removable lines!\")\n",
        "        break\n",
        "      choice = np.random.choice(np.arange(len(indexes)))\n",
        "      direction, idx = indexes[choice]\n",
        "      indexes.pop(choice)\n",
        "\n",
        "      if direction == 0:\n",
        "         corrupted[idx,:] = 0\n",
        "\n",
        "      if direction == 1:\n",
        "         corrupted[:,idx] = 0\n",
        "\n",
        "      left_lines -= 1\n",
        "\n",
        "    new_arr[n] = corrupted\n",
        "\n",
        "  return new_arr\n"
      ],
      "metadata": {
        "id": "lDDm_3o_gX9s"
      },
      "execution_count": null,
      "outputs": []
    },
    {
      "cell_type": "markdown",
      "metadata": {
        "id": "gWZMiDshBbtw"
      },
      "source": [
        "The function below turns to 255 random stripes (horizontal or vertical). Picture stripes.\n"
      ]
    },
    {
      "cell_type": "code",
      "execution_count": null,
      "metadata": {
        "id": "rXG-QeUgujsF"
      },
      "outputs": [],
      "source": [
        "def stripe_noise_pos(arr, lines):\n",
        "  new_arr = np.zeros(arr.shape)\n",
        "\n",
        "  for n in range(len(arr)):\n",
        "    corrupted = np.array(arr[n])\n",
        "    left_lines = lines\n",
        "\n",
        "    directions = np.array((0,1))\n",
        "    direction = np.random.choice(directions)\n",
        "\n",
        "    while left_lines!=0:\n",
        "      choice = np.random.choice(np.arange(28))\n",
        "\n",
        "      if direction == 0:\n",
        "         corrupted[choice,:] = 255\n",
        "\n",
        "      if direction == 1:\n",
        "         corrupted[:,choice] = 255\n",
        "\n",
        "      left_lines -= 1\n",
        "\n",
        "    new_arr[n] = corrupted\n",
        "\n",
        "  return new_arr\n",
        "\n",
        "stripes = stripe_noise_pos(x_train, 3)"
      ]
    },
    {
      "cell_type": "markdown",
      "source": [
        "Each section of code below is used to corrupt test- and training data respectively with the different types of corruption. x_train_A_corruption_type is the augmented input for training the model on corrupted data and includes both the original input and the corrupted version."
      ],
      "metadata": {
        "id": "M2-ceXKLOYzk"
      }
    },
    {
      "cell_type": "markdown",
      "source": [
        "Shift"
      ],
      "metadata": {
        "id": "xiBN-QpxPH26"
      }
    },
    {
      "cell_type": "code",
      "source": [
        "n = number_of_shifted_lines_for_test_data  #Change as desired\n",
        "x_test_shift = normalize_input(loc_noise(x_test, n))"
      ],
      "metadata": {
        "id": "EAm-G5sYtfnc"
      },
      "execution_count": null,
      "outputs": []
    },
    {
      "cell_type": "code",
      "source": [
        "n = number_of_shifted_lines_for_train_data #Change as desired\n",
        "x_train_shift = normalize_input(loc_noise(x_train))\n",
        "\n",
        "x_train_A_shift = np.concatenate(x_train_norm, x_train_shift)"
      ],
      "metadata": {
        "id": "zhv324x2TWI1"
      },
      "execution_count": null,
      "outputs": []
    },
    {
      "cell_type": "markdown",
      "source": [
        "Digit noise"
      ],
      "metadata": {
        "id": "5uP-uHxXPJqw"
      }
    },
    {
      "cell_type": "code",
      "source": [
        "n = percentage_of_pixels_changed_for_test_data #Change as desired\n",
        "x_test_digit_noise = normalize_input(scatter_noise_neg(x_test, n))"
      ],
      "metadata": {
        "id": "TsCDJhjJEvaR"
      },
      "execution_count": null,
      "outputs": []
    },
    {
      "cell_type": "code",
      "source": [
        "n = percentage__of_pixels_changed_for_train_data #Change as desired\n",
        "x_train_digit_noise = normalize_input(scatter_noise_neg(x_train), n)\n",
        "\n",
        "x_train_A_digit_noise = np.concatenate(x_train_norm, x_train_digit_noise)"
      ],
      "metadata": {
        "id": "yazLOqPSTPP-"
      },
      "execution_count": null,
      "outputs": []
    },
    {
      "cell_type": "markdown",
      "source": [
        "Background noise"
      ],
      "metadata": {
        "id": "wY-e8DyTPOxh"
      }
    },
    {
      "cell_type": "code",
      "source": [
        "n = percentage_of_pixels_changed_for_test_data #Change as desired\n",
        "x_test_back_noise = normalize_input(scatter_noise_pos(x_test, n))"
      ],
      "metadata": {
        "id": "cJZ9K6egExG1"
      },
      "execution_count": null,
      "outputs": []
    },
    {
      "cell_type": "code",
      "source": [
        "n = percentage__of_pixels_changed_for_train_data #Change as desired\n",
        "x_train_back_noise = normalize_input(scatter_noise_pos(x_train, n))\n",
        "\n",
        "x_train_A_back_noise = np.concatenate(x_train_norm, x_train_back_noise)"
      ],
      "metadata": {
        "id": "4VaWnsetTNTt"
      },
      "execution_count": null,
      "outputs": []
    },
    {
      "cell_type": "markdown",
      "source": [
        "Mixed noise"
      ],
      "metadata": {
        "id": "Zk0vIPj5PRSy"
      }
    },
    {
      "cell_type": "code",
      "source": [
        "#\n",
        "n = percentage_of_pixels_changed_for_test_data #Change as desired\n",
        "x_test_mix_noise = normalize_input(scatter_noise_all(x_test, n))"
      ],
      "metadata": {
        "id": "ArC5gj3bEyFn"
      },
      "execution_count": null,
      "outputs": []
    },
    {
      "cell_type": "code",
      "source": [
        "n = percentage__of_pixels_changed_for_train_data #Change as desired\n",
        "x_train_mix_noise = normalize_input(scatter_noise_all(x_train, n))\n",
        "\n",
        "x_train_A_mix_noise = np.concatenate(x_train_norm, x_train_mix_noise)"
      ],
      "metadata": {
        "id": "MRgxwj60TK1k"
      },
      "execution_count": null,
      "outputs": []
    },
    {
      "cell_type": "markdown",
      "source": [
        "Digit stripes"
      ],
      "metadata": {
        "id": "-mxfn23aPUZ8"
      }
    },
    {
      "cell_type": "code",
      "source": [
        "n = number_of_lines_changed_for_test_data #Change as desired\n",
        "x_test_dig_strip = normalize_input(stripe_noise_neg(x_test, n))"
      ],
      "metadata": {
        "id": "ezfTrKgzEzC9"
      },
      "execution_count": null,
      "outputs": []
    },
    {
      "cell_type": "code",
      "source": [
        "n = number_of_lines_changed_for_train_data #Change as desired\n",
        "x_train_dig_strip = normalize_input(stripe_noise_neg(x_train, n))\n",
        "\n",
        "x_train_A_dig_strip = np.concatenate(x_train_norm, x_train_dig_strip)"
      ],
      "metadata": {
        "id": "nbpjZzM5TG-c"
      },
      "execution_count": null,
      "outputs": []
    },
    {
      "cell_type": "markdown",
      "source": [
        "Picture stripes"
      ],
      "metadata": {
        "id": "Vl-mBcPNPZGf"
      }
    },
    {
      "cell_type": "code",
      "source": [
        "n = number_of_lines_changed_for_test_data #Change as desired\n",
        "x_test_pic_strip = normalize_input(stripe_noise_pos(x_test n))"
      ],
      "metadata": {
        "id": "LXA2pYrVE0N3"
      },
      "execution_count": null,
      "outputs": []
    },
    {
      "cell_type": "code",
      "source": [
        "n = number_of_lines_changed_for_train_data #Change as desired\n",
        "x_train_pic_strip = normalize_input(stripe_noise_pos(x_train, n))\n",
        "\n",
        "x_train_A_shift = np.concatenate(x_train_norm, x_train_pic_strip)"
      ],
      "metadata": {
        "id": "exoneNv8TFjr"
      },
      "execution_count": null,
      "outputs": []
    },
    {
      "cell_type": "markdown",
      "source": [
        "1. Tests the model on the corrupted test data.\n",
        "\n",
        "2. Prints its accuracy for that level of corruption."
      ],
      "metadata": {
        "id": "Ncq1e0LuRF5s"
      }
    },
    {
      "cell_type": "code",
      "source": [
        "#1\n",
        "x_test_corrupt = corrupted_test_values #For example x_test_shift or x_test_picture_stripes, changed as desired\n",
        "predictions_corrupt = model.predict(x_test_corrupt)\n",
        "\n",
        "#2\n",
        "count = 0\n",
        "for p, l in zip(predictions_corrupt, y_test_cat):\n",
        "  if np.argmax(p)==np.argmax(l): count += 1\n",
        "\n",
        "acc = count/predictions_corrupt.shape[0]\n",
        "\n",
        "print(acc)"
      ],
      "metadata": {
        "id": "_Grf2nzUGGda",
        "colab": {
          "base_uri": "https://localhost:8080/"
        },
        "outputId": "421e1c7b-ed14-40ca-d5a4-9cec7ccc863b"
      },
      "execution_count": null,
      "outputs": [
        {
          "output_type": "stream",
          "name": "stdout",
          "text": [
            "313/313 [==============================] - 1s 2ms/step\n",
            "0.251\n"
          ]
        }
      ]
    },
    {
      "cell_type": "markdown",
      "source": [
        "1. Doubles onehot output values to match the augmented input\n",
        "\n",
        "2. Redefines and recompiles the model to reset it and make it able to train from the start on corrupted data. Trains the model on the desired augmented data."
      ],
      "metadata": {
        "id": "hgPAff7xQ1fo"
      }
    },
    {
      "cell_type": "code",
      "source": [
        "#1\n",
        "y_train_A = np.concatenate(y_train_cat, y_train_cat)\n",
        "\n",
        "#2\n",
        "x_train_corrupt = augmented_train_data #For example x_train_A_shift or x_train_A_mix_noise\n",
        "\n",
        "model = keras.Sequential([\n",
        "          keras.Input(shape = (28, 28)),\n",
        "          layers.Flatten(),\n",
        "          layers.Dense(32, activation=\"tanh\"),\n",
        "          layers.Dense(32, activation=\"tanh\"),\n",
        "          layers.Dense(32, activation=\"tanh\"),\n",
        "          layers.Dense(32, activation=\"tanh\"),\n",
        "\n",
        "          layers.Dense(10, activation=\"softmax\")])\n",
        "\n",
        "model.compile(loss=\"categorical_crossentropy\", optimizer=\"adam\", metrics=\"accuracy\")\n",
        "\n",
        "h = model.fit(x_train_corrupt, y_train_A, batch_size=784, epochs=10, validation_split=0.1)"
      ],
      "metadata": {
        "id": "X81-oStgFpC7"
      },
      "execution_count": null,
      "outputs": []
    }
  ]
}